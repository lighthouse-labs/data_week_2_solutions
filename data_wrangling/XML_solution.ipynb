{
 "cells": [
  {
   "cell_type": "markdown",
   "metadata": {},
   "source": [
    "# XML example and exercise\n",
    "****\n",
    "+ study examples of accessing nodes in XML tree structure  \n",
    "+ work on exercise to be completed and submitted\n",
    "****\n",
    "+ reference: https://docs.python.org/2.7/library/xml.etree.elementtree.html\n",
    "+ data source: http://www.dbis.informatik.uni-goettingen.de/Mondial\n",
    "****"
   ]
  },
  {
   "cell_type": "code",
   "execution_count": 6,
   "metadata": {},
   "outputs": [],
   "source": [
    "from xml.etree import ElementTree as ET"
   ]
  },
  {
   "cell_type": "markdown",
   "metadata": {},
   "source": [
    "## XML example\n",
    "\n",
    "+ for details about tree traversal and iterators, see https://docs.python.org/2.7/library/xml.etree.elementtree.html"
   ]
  },
  {
   "cell_type": "code",
   "execution_count": 2,
   "metadata": {},
   "outputs": [],
   "source": [
    "document_tree = ET.parse('mondial.xml' )"
   ]
  },
  {
   "cell_type": "code",
   "execution_count": 3,
   "metadata": {},
   "outputs": [],
   "source": [
    "root = document_tree.getroot()"
   ]
  },
  {
   "cell_type": "code",
   "execution_count": 4,
   "metadata": {},
   "outputs": [
    {
     "data": {
      "text/plain": [
       "xml.etree.ElementTree.Element"
      ]
     },
     "execution_count": 4,
     "metadata": {},
     "output_type": "execute_result"
    }
   ],
   "source": [
    "type(root)"
   ]
  },
  {
   "cell_type": "code",
   "execution_count": 5,
   "metadata": {},
   "outputs": [
    {
     "name": "stdout",
     "output_type": "stream",
     "text": [
      "<Element 'country' at 0x10b973ef8>\n",
      "<class 'xml.etree.ElementTree.Element'>\n",
      "<_elementtree._element_iterator object at 0x10dbc1830>\n",
      "<class '_elementtree._element_iterator'>\n"
     ]
    }
   ],
   "source": [
    "print(root.getchildren()[0])\n",
    "print(type(root.getchildren()[0]))\n",
    "print(root.iter())\n",
    "print(type(root.iter()))"
   ]
  },
  {
   "cell_type": "code",
   "execution_count": 1,
   "metadata": {},
   "outputs": [],
   "source": [
    "# ET.tostring(root)"
   ]
  },
  {
   "cell_type": "code",
   "execution_count": 2,
   "metadata": {},
   "outputs": [],
   "source": [
    "# # print names of all countries\n",
    "# for child in document_tree.getroot():\n",
    "#     print(child.find('name').text)"
   ]
  },
  {
   "cell_type": "code",
   "execution_count": 3,
   "metadata": {},
   "outputs": [],
   "source": [
    "# # print names of all countries and their cities\n",
    "# for element in document_tree.iter(tag='country'):\n",
    "#     print('* ' + element.find('name').text + ':')\n",
    "#     capitals_string = ''\n",
    "#     for subelement in element.iter(tag='city'):\n",
    "#         capitals_string += subelement.find('name').text + ', '\n",
    "#     print(capitals_string[:-2])"
   ]
  },
  {
   "cell_type": "markdown",
   "metadata": {},
   "source": [
    "****\n",
    "## XML exercise\n",
    "\n",
    "Using data in 'data/mondial_database.xml', the examples above, and refering to https://docs.python.org/2.7/library/xml.etree.elementtree.html, find\n",
    "\n",
    "1. 10 countries with the lowest infant mortality rates\n",
    "2. 10 cities with the largest population\n",
    "3. name and country of a) longest river, b) largest lake and c) airport at highest elevation"
   ]
  },
  {
   "cell_type": "code",
   "execution_count": 7,
   "metadata": {},
   "outputs": [],
   "source": [
    "document = ET.parse( './mondial.xml' )"
   ]
  },
  {
   "cell_type": "code",
   "execution_count": null,
   "metadata": {},
   "outputs": [],
   "source": []
  },
  {
   "cell_type": "code",
   "execution_count": null,
   "metadata": {},
   "outputs": [],
   "source": []
  },
  {
   "cell_type": "code",
   "execution_count": 4,
   "metadata": {},
   "outputs": [],
   "source": [
    "# #pseudocode\n",
    "# for population in populations:\n",
    "#     max_year -> max_population"
   ]
  },
  {
   "cell_type": "markdown",
   "metadata": {},
   "source": [
    "## 1"
   ]
  },
  {
   "cell_type": "code",
   "execution_count": 17,
   "metadata": {},
   "outputs": [
    {
     "data": {
      "text/html": [
       "<div>\n",
       "<style scoped>\n",
       "    .dataframe tbody tr th:only-of-type {\n",
       "        vertical-align: middle;\n",
       "    }\n",
       "\n",
       "    .dataframe tbody tr th {\n",
       "        vertical-align: top;\n",
       "    }\n",
       "\n",
       "    .dataframe thead th {\n",
       "        text-align: right;\n",
       "    }\n",
       "</style>\n",
       "<table border=\"1\" class=\"dataframe\">\n",
       "  <thead>\n",
       "    <tr style=\"text-align: right;\">\n",
       "      <th></th>\n",
       "      <th>infant_mortality</th>\n",
       "    </tr>\n",
       "  </thead>\n",
       "  <tbody>\n",
       "    <tr>\n",
       "      <th>Monaco</th>\n",
       "      <td>1.81</td>\n",
       "    </tr>\n",
       "    <tr>\n",
       "      <th>Romania</th>\n",
       "      <td>10.16</td>\n",
       "    </tr>\n",
       "    <tr>\n",
       "      <th>Fiji</th>\n",
       "      <td>10.2</td>\n",
       "    </tr>\n",
       "    <tr>\n",
       "      <th>Brunei</th>\n",
       "      <td>10.48</td>\n",
       "    </tr>\n",
       "    <tr>\n",
       "      <th>Grenada</th>\n",
       "      <td>10.5</td>\n",
       "    </tr>\n",
       "    <tr>\n",
       "      <th>Mauritius</th>\n",
       "      <td>10.59</td>\n",
       "    </tr>\n",
       "    <tr>\n",
       "      <th>Panama</th>\n",
       "      <td>10.7</td>\n",
       "    </tr>\n",
       "    <tr>\n",
       "      <th>Seychelles</th>\n",
       "      <td>10.77</td>\n",
       "    </tr>\n",
       "    <tr>\n",
       "      <th>United Arab Emirates</th>\n",
       "      <td>10.92</td>\n",
       "    </tr>\n",
       "    <tr>\n",
       "      <th>Barbados</th>\n",
       "      <td>10.93</td>\n",
       "    </tr>\n",
       "  </tbody>\n",
       "</table>\n",
       "</div>"
      ],
      "text/plain": [
       "                     infant_mortality\n",
       "Monaco                           1.81\n",
       "Romania                         10.16\n",
       "Fiji                             10.2\n",
       "Brunei                          10.48\n",
       "Grenada                          10.5\n",
       "Mauritius                       10.59\n",
       "Panama                           10.7\n",
       "Seychelles                      10.77\n",
       "United Arab Emirates            10.92\n",
       "Barbados                        10.93"
      ]
     },
     "execution_count": 17,
     "metadata": {},
     "output_type": "execute_result"
    }
   ],
   "source": [
    "import pandas as pd\n",
    "\n",
    "inf_data = {}\n",
    "for element in document.iterfind('country'):\n",
    "    this_element= {}\n",
    "    this_element[\"infant_mortality\"] = element.findtext('infant_mortality')\n",
    "    inf_data[element.findtext('name')] = this_element\n",
    "    \n",
    "inf_data_pd = pd.DataFrame(inf_data).transpose()\n",
    "inf_data_pd.sort_values(\"infant_mortality\")[:10]"
   ]
  },
  {
   "cell_type": "markdown",
   "metadata": {},
   "source": [
    "## 2"
   ]
  },
  {
   "cell_type": "code",
   "execution_count": 19,
   "metadata": {},
   "outputs": [
    {
     "data": {
      "text/html": [
       "<div>\n",
       "<style scoped>\n",
       "    .dataframe tbody tr th:only-of-type {\n",
       "        vertical-align: middle;\n",
       "    }\n",
       "\n",
       "    .dataframe tbody tr th {\n",
       "        vertical-align: top;\n",
       "    }\n",
       "\n",
       "    .dataframe thead th {\n",
       "        text-align: right;\n",
       "    }\n",
       "</style>\n",
       "<table border=\"1\" class=\"dataframe\">\n",
       "  <thead>\n",
       "    <tr style=\"text-align: right;\">\n",
       "      <th></th>\n",
       "      <th>population</th>\n",
       "    </tr>\n",
       "  </thead>\n",
       "  <tbody>\n",
       "    <tr>\n",
       "      <th>Shanghai</th>\n",
       "      <td>22315474.0</td>\n",
       "    </tr>\n",
       "    <tr>\n",
       "      <th>Karachi</th>\n",
       "      <td>14916456.0</td>\n",
       "    </tr>\n",
       "    <tr>\n",
       "      <th>Lagos</th>\n",
       "      <td>13745000.0</td>\n",
       "    </tr>\n",
       "    <tr>\n",
       "      <th>Istanbul</th>\n",
       "      <td>13710512.0</td>\n",
       "    </tr>\n",
       "    <tr>\n",
       "      <th>Mumbai</th>\n",
       "      <td>12442373.0</td>\n",
       "    </tr>\n",
       "    <tr>\n",
       "      <th>Moskva</th>\n",
       "      <td>11979529.0</td>\n",
       "    </tr>\n",
       "    <tr>\n",
       "      <th>Beijing</th>\n",
       "      <td>11716620.0</td>\n",
       "    </tr>\n",
       "    <tr>\n",
       "      <th>Kinshasa</th>\n",
       "      <td>11575000.0</td>\n",
       "    </tr>\n",
       "    <tr>\n",
       "      <th>São Paulo</th>\n",
       "      <td>11152344.0</td>\n",
       "    </tr>\n",
       "    <tr>\n",
       "      <th>Lahore</th>\n",
       "      <td>11126285.0</td>\n",
       "    </tr>\n",
       "  </tbody>\n",
       "</table>\n",
       "</div>"
      ],
      "text/plain": [
       "           population\n",
       "Shanghai   22315474.0\n",
       "Karachi    14916456.0\n",
       "Lagos      13745000.0\n",
       "Istanbul   13710512.0\n",
       "Mumbai     12442373.0\n",
       "Moskva     11979529.0\n",
       "Beijing    11716620.0\n",
       "Kinshasa   11575000.0\n",
       "São Paulo  11152344.0\n",
       "Lahore     11126285.0"
      ]
     },
     "execution_count": 19,
     "metadata": {},
     "output_type": "execute_result"
    }
   ],
   "source": [
    "city_data = {}\n",
    "for element in document.iterfind('country'):\n",
    "    cities = element.findall('city')\n",
    "    if len(cities) == 0:\n",
    "        cities = element.findall(\"province/city\")\n",
    "    for subelement in cities:\n",
    "        this_element= {}\n",
    "        try:\n",
    "            this_element[\"population\"] = int(subelement.findall('population')[-1].text)\n",
    "        except:\n",
    "            pass\n",
    "            #print element.findall('city')\n",
    "            \n",
    "    \n",
    "        city_data[subelement.findtext('name')] = this_element\n",
    "    \n",
    "city_data_pd = pd.DataFrame(city_data).transpose()\n",
    "city_data_pd.sort_values(\"population\", ascending=False)[:10]"
   ]
  },
  {
   "cell_type": "markdown",
   "metadata": {},
   "source": [
    "## 3"
   ]
  },
  {
   "cell_type": "code",
   "execution_count": 21,
   "metadata": {},
   "outputs": [
    {
     "data": {
      "text/plain": [
       "length     6380\n",
       "country      CN\n",
       "Name: Yangtze, dtype: object"
      ]
     },
     "execution_count": 21,
     "metadata": {},
     "output_type": "execute_result"
    }
   ],
   "source": [
    "rivers = {}\n",
    "for element in document.iterfind('river'):\n",
    "    try:\n",
    "        rivers[element.findtext(\"name\")] = {\"length\" : float(element.findtext(\"length\")),\n",
    "                                        \"country\" : element.attrib[\"country\"]}\n",
    "    except TypeError: #in case length is None\n",
    "        pass\n",
    "        #print element.findtext(\"length\")\n",
    "    \n",
    "pd.DataFrame(rivers).transpose().sort_values(\"length\", ascending=False).iloc[0]"
   ]
  },
  {
   "cell_type": "code",
   "execution_count": 23,
   "metadata": {},
   "outputs": [
    {
     "data": {
      "text/plain": [
       "area               386400\n",
       "country    R AZ KAZ IR TM\n",
       "Name: Caspian Sea, dtype: object"
      ]
     },
     "execution_count": 23,
     "metadata": {},
     "output_type": "execute_result"
    }
   ],
   "source": [
    "lakes = {}\n",
    "for element in document.iterfind('lake'):\n",
    "    try:\n",
    "        lakes[element.findtext(\"name\")] = {\"area\" : float(element.findtext(\"area\")),\n",
    "                                        \"country\" : element.attrib[\"country\"]}\n",
    "    except TypeError: #in case length is None\n",
    "        pass\n",
    "        #print element.findtext(\"length\")\n",
    "    \n",
    "pd.DataFrame(lakes).transpose().sort_values(\"area\", ascending=False).iloc[0]"
   ]
  },
  {
   "cell_type": "code",
   "execution_count": 24,
   "metadata": {},
   "outputs": [
    {
     "data": {
      "text/plain": [
       "elevation    4063\n",
       "country       BOL\n",
       "Name: El Alto Intl, dtype: object"
      ]
     },
     "execution_count": 24,
     "metadata": {},
     "output_type": "execute_result"
    }
   ],
   "source": [
    "airports = {}\n",
    "for element in document.iterfind('airport'):\n",
    "    try:\n",
    "        airports[element.findtext(\"name\")] = {\"elevation\" : float(element.findtext(\"elevation\")),\n",
    "                                        \"country\" : element.attrib[\"country\"]}\n",
    "    except TypeError: #in case length is None\n",
    "        pass\n",
    "        #print element.findtext(\"length\")\n",
    "    \n",
    "pd.DataFrame(airports).transpose().sort_values(\"elevation\", ascending=False).iloc[0]"
   ]
  },
  {
   "cell_type": "code",
   "execution_count": null,
   "metadata": {},
   "outputs": [],
   "source": []
  }
 ],
 "metadata": {
  "anaconda-cloud": {},
  "kernelspec": {
   "display_name": "Python 3",
   "language": "python",
   "name": "python3"
  },
  "language_info": {
   "codemirror_mode": {
    "name": "ipython",
    "version": 3
   },
   "file_extension": ".py",
   "mimetype": "text/x-python",
   "name": "python",
   "nbconvert_exporter": "python",
   "pygments_lexer": "ipython3",
   "version": "3.7.6"
  }
 },
 "nbformat": 4,
 "nbformat_minor": 4
}
