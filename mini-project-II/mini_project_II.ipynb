{
 "cells": [
  {
   "cell_type": "code",
   "execution_count": null,
   "metadata": {
    "ExecuteTime": {
     "end_time": "2020-07-30T13:54:47.025685Z",
     "start_time": "2020-07-30T13:54:47.020248Z"
    }
   },
   "outputs": [],
   "source": [
    "import json, requests\n",
    "import pandas as pd\n",
    "import time"
   ]
  },
  {
   "cell_type": "markdown",
   "metadata": {},
   "source": [
    "# Foursquare"
   ]
  },
  {
   "cell_type": "code",
   "execution_count": null,
   "metadata": {
    "ExecuteTime": {
     "end_time": "2020-07-30T09:04:15.723381Z",
     "start_time": "2020-07-30T09:04:14.920092Z"
    }
   },
   "outputs": [],
   "source": [
    "# api settings\n",
    "client_id = os.environ['']\n",
    "client_secret = os.environ['']\n",
    "v = '20180323'\n",
    "\n",
    "# getting restaurants in the neighborhood (NYC)\n",
    "location = '40.7243,-74.0018'\n",
    "url = 'https://api.foursquare.com/v2/venues/explore'\n",
    "\n",
    "params = {\n",
    "    'client_id': client_id,\n",
    "    'client_secret': client_secret,\n",
    "    'v': v,\n",
    "    'll': location,\n",
    "    'query': 'restaurant',\n",
    "    'limit': 50,\n",
    "    'radius': 1000\n",
    "}\n",
    "\n",
    "resp = requests.get(url=url, params=params)\n",
    "data = resp.json()"
   ]
  },
  {
   "cell_type": "code",
   "execution_count": null,
   "metadata": {
    "ExecuteTime": {
     "end_time": "2020-07-30T09:10:05.808286Z",
     "start_time": "2020-07-30T09:10:05.802799Z"
    }
   },
   "outputs": [],
   "source": [
    "# restaurant details (rating,name,place, ...)\n",
    "\n",
    "all_restaurants = []\n",
    "for restaurant in data['response']['groups'][0]['items']:\n",
    "    id_restaurant = restaurant['venue']['id']\n",
    "    \n",
    "    url = f'https://api.foursquare.com/v2/venues/{id_restaurant}'\n",
    "    params = {\n",
    "        'client_id': client_id,\n",
    "        'client_secret': client_secret,\n",
    "        'v': v\n",
    "    }\n",
    "    \n",
    "    resp = requests.get(url=url, params=params)\n",
    "    \n",
    "    if resp.status_code == 200:\n",
    "        restaurant_data = resp.json()\n",
    "        venue = restaurant_data['response']['venue']\n",
    "\n",
    "        all_restaurants.append(\n",
    "            {\n",
    "            'name': venue['name'],\n",
    "            'address': ', '.join(venue['location']['formattedAddress']),\n",
    "            'url': venue['url'],\n",
    "            'price_category': venue['price']['tier'] if venue.get('price') else None,\n",
    "            'likes': venue['likes']['count'],\n",
    "            'rating': venue['rating'],\n",
    "            'api': 'foursquare',\n",
    "        })"
   ]
  },
  {
   "cell_type": "code",
   "execution_count": null,
   "metadata": {
    "ExecuteTime": {
     "end_time": "2020-07-30T13:58:55.415094Z",
     "start_time": "2020-07-30T13:58:55.402857Z"
    }
   },
   "outputs": [],
   "source": [
    "df_fs = pd.DataFrame(all_restaurants)"
   ]
  },
  {
   "cell_type": "code",
   "execution_count": null,
   "metadata": {
    "ExecuteTime": {
     "end_time": "2020-07-30T13:58:55.737935Z",
     "start_time": "2020-07-30T13:58:55.703351Z"
    }
   },
   "outputs": [],
   "source": [
    "df_fs"
   ]
  },
  {
   "cell_type": "markdown",
   "metadata": {},
   "source": [
    "# Yelp"
   ]
  },
  {
   "cell_type": "code",
   "execution_count": null,
   "metadata": {
    "ExecuteTime": {
     "end_time": "2020-07-30T10:48:19.341214Z",
     "start_time": "2020-07-30T10:48:19.335946Z"
    }
   },
   "outputs": [],
   "source": [
    "# api settings\n",
    "apikey = os.environ['']\n",
    "\n",
    "headers = {\n",
    "        'Authorization': f'Bearer {apikey}'\n",
    "    }\n",
    "\n",
    "# # getting restaurants in the neighborhood (NYC)\n",
    "url_params = {\n",
    "        'term': term.replace(' ', '+'),\n",
    "        'latitude': '40.7243',\n",
    "        'longitude': '-74.0018',\n",
    "        'term': 'restaurants',\n",
    "        'limit': 50,\n",
    "        'radius': 1000\n",
    "    }\n",
    "\n",
    "url = 'https://api.yelp.com/v3/businesses/search'\n",
    "\n",
    "resp = requests.get(url=url, headers=headers, params=url_params)\n",
    "data = resp.json()"
   ]
  },
  {
   "cell_type": "code",
   "execution_count": null,
   "metadata": {
    "ExecuteTime": {
     "end_time": "2020-07-30T11:13:34.382120Z",
     "start_time": "2020-07-30T11:13:10.665149Z"
    }
   },
   "outputs": [],
   "source": [
    "# # restaurant details (rating,name,place, ...)\n",
    "\n",
    "all_restaurants = []\n",
    "for restaurant in data['businesses']:\n",
    "    id_restaurant = restaurant['id']\n",
    "    \n",
    "    url = f'https://api.yelp.com/v3/businesses/{id_restaurant}'\n",
    "    resp = requests.get(url=url, headers=headers)\n",
    "    \n",
    "    if resp.status_code == 200:\n",
    "        restaurant_data = resp.json()\n",
    "        \n",
    "        all_restaurants.append(\n",
    "            {\n",
    "            'name': restaurant_data['name'],\n",
    "            'address': ', '.join(restaurant_data['location']['display_address']),\n",
    "            'url': restaurant_data['url'],\n",
    "            'price_category': restaurant_data['price'].strip() if restaurant_data.get('price') else None,\n",
    "            'likes': None,\n",
    "            'rating': restaurant_data['rating']*2,\n",
    "            'api': 'yelp',\n",
    "        })"
   ]
  },
  {
   "cell_type": "code",
   "execution_count": null,
   "metadata": {
    "ExecuteTime": {
     "end_time": "2020-07-30T13:59:00.127396Z",
     "start_time": "2020-07-30T13:59:00.113729Z"
    }
   },
   "outputs": [],
   "source": [
    "df_yelp = pd.DataFrame(all_restaurants)\n",
    "df_yelp['price_category'] = df_yelp['price_category'].apply(lambda x: len(x.strip()) if isinstance(x,str) else None)"
   ]
  },
  {
   "cell_type": "code",
   "execution_count": null,
   "metadata": {
    "ExecuteTime": {
     "end_time": "2020-07-30T13:59:10.265372Z",
     "start_time": "2020-07-30T13:59:10.233700Z"
    }
   },
   "outputs": [],
   "source": [
    "df_yelp"
   ]
  },
  {
   "cell_type": "markdown",
   "metadata": {},
   "source": [
    "# Google "
   ]
  },
  {
   "cell_type": "code",
   "execution_count": null,
   "metadata": {
    "ExecuteTime": {
     "end_time": "2020-07-30T13:57:41.415685Z",
     "start_time": "2020-07-30T13:57:41.411538Z"
    }
   },
   "outputs": [],
   "source": [
    "key = os.environ['']\n",
    "radius = 1000\n",
    "query = 'restaurant'\n",
    "location = '40.7243,-74.0018'"
   ]
  },
  {
   "cell_type": "code",
   "execution_count": null,
   "metadata": {
    "ExecuteTime": {
     "end_time": "2020-07-30T13:57:43.162196Z",
     "start_time": "2020-07-30T13:57:41.719057Z"
    }
   },
   "outputs": [],
   "source": [
    "resp = requests.get(f'https://maps.googleapis.com/maps/api/place/nearbysearch/json?location={location}&radius={radius}&type={query}&key={key}')\n",
    "data = r.json()\n",
    "\n",
    "results = []\n",
    "results += data['results']\n",
    "next_page_token = data.get('next_page_token')\n",
    "\n",
    "while next_page_token:\n",
    "    resp = requests.get(f'https://maps.googleapis.com/maps/api/place/nearbysearch/json?pagetoken={next_page_token}&key={key}')\n",
    "    data = resp.json()\n",
    "    \n",
    "    results += data['results']\n",
    "    next_page_token = data.get('next_page_token')"
   ]
  },
  {
   "cell_type": "code",
   "execution_count": null,
   "metadata": {
    "ExecuteTime": {
     "end_time": "2020-07-30T13:57:56.048850Z",
     "start_time": "2020-07-30T13:57:56.043622Z"
    }
   },
   "outputs": [],
   "source": [
    "all_restaurants = []\n",
    "for restaurant in results:\n",
    "    all_restaurants.append(\n",
    "            {\n",
    "            'name': restaurant['name'],\n",
    "            'address': restaurant['vicinity'],\n",
    "            'url': None,\n",
    "            'price_category': restaurant['price_level'],\n",
    "            'likes': None,\n",
    "            'rating': restaurant['rating']*2,\n",
    "            'api': 'google',\n",
    "        })\n",
    "    "
   ]
  },
  {
   "cell_type": "code",
   "execution_count": null,
   "metadata": {
    "ExecuteTime": {
     "end_time": "2020-07-30T13:57:56.402807Z",
     "start_time": "2020-07-30T13:57:56.398229Z"
    }
   },
   "outputs": [],
   "source": [
    "df_google = pd.DataFrame(all_restaurants)"
   ]
  },
  {
   "cell_type": "code",
   "execution_count": null,
   "metadata": {
    "ExecuteTime": {
     "end_time": "2020-07-30T13:58:18.595866Z",
     "start_time": "2020-07-30T13:58:18.580955Z"
    }
   },
   "outputs": [],
   "source": [
    "df_google.head()"
   ]
  },
  {
   "cell_type": "markdown",
   "metadata": {},
   "source": [
    "# Database"
   ]
  },
  {
   "cell_type": "code",
   "execution_count": null,
   "metadata": {
    "ExecuteTime": {
     "end_time": "2020-07-30T14:03:20.474068Z",
     "start_time": "2020-07-30T14:03:20.468509Z"
    }
   },
   "outputs": [],
   "source": [
    "import sqlite3"
   ]
  },
  {
   "cell_type": "code",
   "execution_count": null,
   "metadata": {
    "ExecuteTime": {
     "end_time": "2020-07-30T14:03:20.940201Z",
     "start_time": "2020-07-30T14:03:20.934140Z"
    }
   },
   "outputs": [],
   "source": [
    "# create connection\n",
    "conn = sqlite3.connect(\"restaurants.db\")"
   ]
  },
  {
   "cell_type": "code",
   "execution_count": null,
   "metadata": {
    "ExecuteTime": {
     "end_time": "2020-07-30T14:03:21.236224Z",
     "start_time": "2020-07-30T14:03:21.216009Z"
    }
   },
   "outputs": [],
   "source": [
    "# insert into db\n",
    "df_fs.to_sql(\"restaurant_info\", conn, if_exists=\"append\", index=False)\n",
    "df_yelp.to_sql(\"restaurant_info\", conn, if_exists=\"append\", index=False)\n",
    "df_google.to_sql(\"restaurant_info\", conn, if_exists=\"append\", index=False)"
   ]
  },
  {
   "cell_type": "code",
   "execution_count": null,
   "metadata": {
    "ExecuteTime": {
     "end_time": "2020-07-30T14:03:21.484999Z",
     "start_time": "2020-07-30T14:03:21.477459Z"
    }
   },
   "outputs": [],
   "source": [
    "# all data from db\n",
    "df_all = pd.read_sql('Select * from restaurant_info', conn)"
   ]
  },
  {
   "cell_type": "code",
   "execution_count": null,
   "metadata": {
    "ExecuteTime": {
     "end_time": "2020-07-30T14:03:21.737068Z",
     "start_time": "2020-07-30T14:03:21.662699Z"
    }
   },
   "outputs": [],
   "source": [
    "# top 10 restaurants according to rating\n",
    "df_all.sort_values('rating',ascending=False).head(10)"
   ]
  },
  {
   "cell_type": "code",
   "execution_count": null,
   "metadata": {},
   "outputs": [],
   "source": []
  }
 ],
 "metadata": {
  "kernelspec": {
   "display_name": "Python 3",
   "language": "python",
   "name": "python3"
  },
  "language_info": {
   "codemirror_mode": {
    "name": "ipython",
    "version": 3
   },
   "file_extension": ".py",
   "mimetype": "text/x-python",
   "name": "python",
   "nbconvert_exporter": "python",
   "pygments_lexer": "ipython3",
   "version": "3.7.6"
  },
  "toc": {
   "base_numbering": 1,
   "nav_menu": {},
   "number_sections": true,
   "sideBar": true,
   "skip_h1_title": false,
   "title_cell": "Table of Contents",
   "title_sidebar": "Contents",
   "toc_cell": false,
   "toc_position": {},
   "toc_section_display": true,
   "toc_window_display": false
  },
  "varInspector": {
   "cols": {
    "lenName": 16,
    "lenType": 16,
    "lenVar": 40
   },
   "kernels_config": {
    "python": {
     "delete_cmd_postfix": "",
     "delete_cmd_prefix": "del ",
     "library": "var_list.py",
     "varRefreshCmd": "print(var_dic_list())"
    },
    "r": {
     "delete_cmd_postfix": ") ",
     "delete_cmd_prefix": "rm(",
     "library": "var_list.r",
     "varRefreshCmd": "cat(var_dic_list()) "
    }
   },
   "types_to_exclude": [
    "module",
    "function",
    "builtin_function_or_method",
    "instance",
    "_Feature"
   ],
   "window_display": false
  }
 },
 "nbformat": 4,
 "nbformat_minor": 4
}
