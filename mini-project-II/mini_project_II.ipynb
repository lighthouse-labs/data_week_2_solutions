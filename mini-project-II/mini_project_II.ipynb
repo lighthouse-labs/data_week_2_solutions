{
 "cells": [
  {
   "cell_type": "code",
   "execution_count": 1,
   "metadata": {
    "ExecuteTime": {
     "end_time": "2020-07-30T13:54:47.025685Z",
     "start_time": "2020-07-30T13:54:47.020248Z"
    }
   },
   "outputs": [],
   "source": [
    "import json, requests\n",
    "import pandas as pd\n",
    "import time"
   ]
  },
  {
   "cell_type": "markdown",
   "metadata": {},
   "source": [
    "# Foursquare"
   ]
  },
  {
   "cell_type": "code",
   "execution_count": null,
   "metadata": {
    "ExecuteTime": {
     "end_time": "2020-07-30T09:04:15.723381Z",
     "start_time": "2020-07-30T09:04:14.920092Z"
    }
   },
   "outputs": [],
   "source": [
    "# api settings\n",
    "client_id = os.environ['']\n",
    "client_secret = os.environ['']\n",
    "v = '20180323'\n",
    "\n",
    "# getting restaurants in the neighborhood (NYC)\n",
    "location = '40.7243,-74.0018'\n",
    "url = 'https://api.foursquare.com/v2/venues/explore'\n",
    "\n",
    "params = {\n",
    "    'client_id': client_id,\n",
    "    'client_secret': client_secret,\n",
    "    'v': v,\n",
    "    'll': location,\n",
    "    'query': 'restaurant',\n",
    "    'limit': 50,\n",
    "    'radius': 1000\n",
    "}\n",
    "\n",
    "resp = requests.get(url=url, params=params)\n",
    "data = resp.json()"
   ]
  },
  {
   "cell_type": "code",
   "execution_count": null,
   "metadata": {
    "ExecuteTime": {
     "end_time": "2020-07-30T09:10:05.808286Z",
     "start_time": "2020-07-30T09:10:05.802799Z"
    }
   },
   "outputs": [],
   "source": [
    "# restaurant details (rating,name,place, ...)\n",
    "\n",
    "all_restaurants = []\n",
    "for restaurant in data['response']['groups'][0]['items']:\n",
    "    id_restaurant = restaurant['venue']['id']\n",
    "    \n",
    "    url = f'https://api.foursquare.com/v2/venues/{id_restaurant}'\n",
    "    params = {\n",
    "        'client_id': client_id,\n",
    "        'client_secret': client_secret,\n",
    "        'v': v\n",
    "    }\n",
    "    \n",
    "    resp = requests.get(url=url, params=params)\n",
    "    \n",
    "    if resp.status_code == 200:\n",
    "        restaurant_data = resp.json()\n",
    "        venue = restaurant_data['response']['venue']\n",
    "\n",
    "        all_restaurants.append(\n",
    "            {\n",
    "            'name': venue['name'],\n",
    "            'address': ', '.join(venue['location']['formattedAddress']),\n",
    "            'url': venue['url'],\n",
    "            'price_category': venue['price']['tier'] if venue.get('price') else None,\n",
    "            'likes': venue['likes']['count'],\n",
    "            'rating': venue['rating'],\n",
    "            'api': 'foursquare',\n",
    "        })"
   ]
  },
  {
   "cell_type": "code",
   "execution_count": null,
   "metadata": {
    "ExecuteTime": {
     "end_time": "2020-07-30T13:58:55.415094Z",
     "start_time": "2020-07-30T13:58:55.402857Z"
    }
   },
   "outputs": [],
   "source": [
    "df_fs = pd.DataFrame(all_restaurants)"
   ]
  },
  {
   "cell_type": "code",
   "execution_count": null,
   "metadata": {
    "ExecuteTime": {
     "end_time": "2020-07-30T13:58:55.737935Z",
     "start_time": "2020-07-30T13:58:55.703351Z"
    }
   },
   "outputs": [],
   "source": [
    "df_fs"
   ]
  },
  {
   "cell_type": "markdown",
   "metadata": {},
   "source": [
    "# Yelp"
   ]
  },
  {
   "cell_type": "code",
   "execution_count": null,
   "metadata": {
    "ExecuteTime": {
     "end_time": "2020-07-30T10:48:19.341214Z",
     "start_time": "2020-07-30T10:48:19.335946Z"
    }
   },
   "outputs": [],
   "source": [
    "# api settings\n",
    "apikey = os.environ['']\n",
    "\n",
    "headers = {\n",
    "        'Authorization': f'Bearer {apikey}'\n",
    "    }\n",
    "\n",
    "# # getting restaurants in the neighborhood (NYC)\n",
    "url_params = {\n",
    "        'term': term.replace(' ', '+'),\n",
    "        'latitude': '40.7243',\n",
    "        'longitude': '-74.0018',\n",
    "        'term': 'restaurants',\n",
    "        'limit': 50,\n",
    "        'radius': 1000\n",
    "    }\n",
    "\n",
    "url = 'https://api.yelp.com/v3/businesses/search'\n",
    "\n",
    "resp = requests.get(url=url, headers=headers, params=url_params)\n",
    "data = resp.json()"
   ]
  },
  {
   "cell_type": "code",
   "execution_count": null,
   "metadata": {
    "ExecuteTime": {
     "end_time": "2020-07-30T11:13:34.382120Z",
     "start_time": "2020-07-30T11:13:10.665149Z"
    }
   },
   "outputs": [],
   "source": [
    "# # restaurant details (rating,name,place, ...)\n",
    "\n",
    "all_restaurants = []\n",
    "for restaurant in data['businesses']:\n",
    "    id_restaurant = restaurant['id']\n",
    "    \n",
    "    url = f'https://api.yelp.com/v3/businesses/{id_restaurant}'\n",
    "    resp = requests.get(url=url, headers=headers)\n",
    "    \n",
    "    if resp.status_code == 200:\n",
    "        restaurant_data = resp.json()\n",
    "        \n",
    "        all_restaurants.append(\n",
    "            {\n",
    "            'name': restaurant_data['name'],\n",
    "            'address': ', '.join(restaurant_data['location']['display_address']),\n",
    "            'url': restaurant_data['url'],\n",
    "            'price_category': restaurant_data['price'].strip() if restaurant_data.get('price') else None,\n",
    "            'likes': None,\n",
    "            'rating': restaurant_data['rating']*2,\n",
    "            'api': 'yelp',\n",
    "        })"
   ]
  },
  {
   "cell_type": "code",
   "execution_count": null,
   "metadata": {
    "ExecuteTime": {
     "end_time": "2020-07-30T13:59:00.127396Z",
     "start_time": "2020-07-30T13:59:00.113729Z"
    }
   },
   "outputs": [],
   "source": [
    "df_yelp = pd.DataFrame(all_restaurants)\n",
    "df_yelp['price_category'] = df_yelp['price_category'].apply(lambda x: len(x.strip()) if isinstance(x,str) else None)"
   ]
  },
  {
   "cell_type": "code",
   "execution_count": null,
   "metadata": {
    "ExecuteTime": {
     "end_time": "2020-07-30T13:59:10.265372Z",
     "start_time": "2020-07-30T13:59:10.233700Z"
    }
   },
   "outputs": [],
   "source": [
    "df_yelp"
   ]
  },
  {
   "cell_type": "markdown",
   "metadata": {},
   "source": [
    "# Google "
   ]
  },
  {
   "cell_type": "code",
   "execution_count": 17,
   "metadata": {
    "ExecuteTime": {
     "end_time": "2020-07-30T13:57:41.415685Z",
     "start_time": "2020-07-30T13:57:41.411538Z"
    }
   },
   "outputs": [],
   "source": [
    "# key = os.environ['']\n",
    "key = os.environ['']\n",
    "radius = 1000\n",
    "query = 'restaurant'\n",
    "location = '40.7243,-74.0018'"
   ]
  },
  {
   "cell_type": "code",
   "execution_count": 18,
   "metadata": {
    "ExecuteTime": {
     "end_time": "2020-07-30T13:57:43.162196Z",
     "start_time": "2020-07-30T13:57:41.719057Z"
    }
   },
   "outputs": [],
   "source": [
    "resp = requests.get(f'https://maps.googleapis.com/maps/api/place/nearbysearch/json?location={location}&radius={radius}&type={query}&key={key}')\n",
    "data = resp.json()\n",
    "\n",
    "results = []\n",
    "results += data['results']\n",
    "next_page_token = data.get('next_page_token')\n",
    "\n",
    "while next_page_token:\n",
    "    resp = requests.get(f'https://maps.googleapis.com/maps/api/place/nearbysearch/json?pagetoken={next_page_token}&key={key}')\n",
    "    data = resp.json()\n",
    "    \n",
    "    results += data['results']\n",
    "    next_page_token = data.get('next_page_token')"
   ]
  },
  {
   "cell_type": "code",
   "execution_count": 19,
   "metadata": {
    "ExecuteTime": {
     "end_time": "2020-07-30T13:57:56.048850Z",
     "start_time": "2020-07-30T13:57:56.043622Z"
    }
   },
   "outputs": [],
   "source": [
    "all_restaurants = []\n",
    "for restaurant in results:\n",
    "    all_restaurants.append(\n",
    "            {\n",
    "            'name': restaurant['name'],\n",
    "            'address': restaurant['vicinity'],\n",
    "            'url': None,\n",
    "            'price_category': restaurant['price_level'],\n",
    "            'likes': None,\n",
    "            'rating': restaurant['rating']*2,\n",
    "            'api': 'google',\n",
    "        })\n",
    "    "
   ]
  },
  {
   "cell_type": "code",
   "execution_count": 20,
   "metadata": {
    "ExecuteTime": {
     "end_time": "2020-07-30T13:57:56.402807Z",
     "start_time": "2020-07-30T13:57:56.398229Z"
    }
   },
   "outputs": [],
   "source": [
    "df_google = pd.DataFrame(all_restaurants)"
   ]
  },
  {
   "cell_type": "code",
   "execution_count": 22,
   "metadata": {},
   "outputs": [],
   "source": [
    "# df_google"
   ]
  },
  {
   "cell_type": "markdown",
   "metadata": {},
   "source": [
    "# Database"
   ]
  },
  {
   "cell_type": "code",
   "execution_count": null,
   "metadata": {
    "ExecuteTime": {
     "end_time": "2020-07-30T14:03:20.474068Z",
     "start_time": "2020-07-30T14:03:20.468509Z"
    }
   },
   "outputs": [],
   "source": [
    "import sqlite3"
   ]
  },
  {
   "cell_type": "code",
   "execution_count": null,
   "metadata": {
    "ExecuteTime": {
     "end_time": "2020-07-30T14:03:20.940201Z",
     "start_time": "2020-07-30T14:03:20.934140Z"
    }
   },
   "outputs": [],
   "source": [
    "# create connection\n",
    "conn = sqlite3.connect(\"restaurants.db\")"
   ]
  },
  {
   "cell_type": "code",
   "execution_count": null,
   "metadata": {
    "ExecuteTime": {
     "end_time": "2020-07-30T14:03:21.236224Z",
     "start_time": "2020-07-30T14:03:21.216009Z"
    }
   },
   "outputs": [],
   "source": [
    "# insert into db\n",
    "df_fs.to_sql(\"restaurant_info\", conn, if_exists=\"append\", index=False)\n",
    "df_yelp.to_sql(\"restaurant_info\", conn, if_exists=\"append\", index=False)\n",
    "df_google.to_sql(\"restaurant_info\", conn, if_exists=\"append\", index=False)"
   ]
  },
  {
   "cell_type": "code",
   "execution_count": null,
   "metadata": {
    "ExecuteTime": {
     "end_time": "2020-07-30T14:03:21.484999Z",
     "start_time": "2020-07-30T14:03:21.477459Z"
    }
   },
   "outputs": [],
   "source": [
    "# all data from db\n",
    "df_all = pd.read_sql('Select * from restaurant_info', conn)"
   ]
  },
  {
   "cell_type": "code",
   "execution_count": null,
   "metadata": {
    "ExecuteTime": {
     "end_time": "2020-07-30T14:03:21.737068Z",
     "start_time": "2020-07-30T14:03:21.662699Z"
    }
   },
   "outputs": [],
   "source": [
    "# top 10 restaurants according to rating\n",
    "df_all_top = df_all.sort_values('rating',ascending=False).head(10)"
   ]
  },
  {
   "cell_type": "code",
   "execution_count": null,
   "metadata": {},
   "outputs": [],
   "source": []
  },
  {
   "cell_type": "code",
   "execution_count": 24,
   "metadata": {},
   "outputs": [
    {
     "data": {
      "text/html": [
       "<div>\n",
       "<style scoped>\n",
       "    .dataframe tbody tr th:only-of-type {\n",
       "        vertical-align: middle;\n",
       "    }\n",
       "\n",
       "    .dataframe tbody tr th {\n",
       "        vertical-align: top;\n",
       "    }\n",
       "\n",
       "    .dataframe thead th {\n",
       "        text-align: right;\n",
       "    }\n",
       "</style>\n",
       "<table border=\"1\" class=\"dataframe\">\n",
       "  <thead>\n",
       "    <tr style=\"text-align: right;\">\n",
       "      <th></th>\n",
       "      <th>name</th>\n",
       "      <th>address</th>\n",
       "      <th>url</th>\n",
       "      <th>price_category</th>\n",
       "      <th>likes</th>\n",
       "      <th>rating</th>\n",
       "      <th>api</th>\n",
       "    </tr>\n",
       "  </thead>\n",
       "  <tbody>\n",
       "    <tr>\n",
       "      <th>0</th>\n",
       "      <td>NOMO SOHO</td>\n",
       "      <td>9 Crosby Street, New York</td>\n",
       "      <td>None</td>\n",
       "      <td>3</td>\n",
       "      <td>None</td>\n",
       "      <td>8.4</td>\n",
       "      <td>google</td>\n",
       "    </tr>\n",
       "    <tr>\n",
       "      <th>1</th>\n",
       "      <td>Artichoke Basille's Pizza</td>\n",
       "      <td>111 MacDougal Street, New York</td>\n",
       "      <td>None</td>\n",
       "      <td>2</td>\n",
       "      <td>None</td>\n",
       "      <td>8.8</td>\n",
       "      <td>google</td>\n",
       "    </tr>\n",
       "    <tr>\n",
       "      <th>2</th>\n",
       "      <td>Gilligan's</td>\n",
       "      <td>310 West Broadway, New York</td>\n",
       "      <td>None</td>\n",
       "      <td>3</td>\n",
       "      <td>None</td>\n",
       "      <td>8.2</td>\n",
       "      <td>google</td>\n",
       "    </tr>\n",
       "    <tr>\n",
       "      <th>3</th>\n",
       "      <td>Lombardi's</td>\n",
       "      <td>32 Spring Street, New York</td>\n",
       "      <td>None</td>\n",
       "      <td>2</td>\n",
       "      <td>None</td>\n",
       "      <td>8.2</td>\n",
       "      <td>google</td>\n",
       "    </tr>\n",
       "    <tr>\n",
       "      <th>4</th>\n",
       "      <td>City Winery</td>\n",
       "      <td>155 Varick Street, New York</td>\n",
       "      <td>None</td>\n",
       "      <td>3</td>\n",
       "      <td>None</td>\n",
       "      <td>8.6</td>\n",
       "      <td>google</td>\n",
       "    </tr>\n",
       "    <tr>\n",
       "      <th>5</th>\n",
       "      <td>Cipriani Downtown</td>\n",
       "      <td>376 West Broadway, New York</td>\n",
       "      <td>None</td>\n",
       "      <td>4</td>\n",
       "      <td>None</td>\n",
       "      <td>8.4</td>\n",
       "      <td>google</td>\n",
       "    </tr>\n",
       "    <tr>\n",
       "      <th>6</th>\n",
       "      <td>Carbone</td>\n",
       "      <td>181 Thompson Street, New York</td>\n",
       "      <td>None</td>\n",
       "      <td>3</td>\n",
       "      <td>None</td>\n",
       "      <td>8.8</td>\n",
       "      <td>google</td>\n",
       "    </tr>\n",
       "    <tr>\n",
       "      <th>7</th>\n",
       "      <td>Boqueria</td>\n",
       "      <td>171 Spring Street, New York</td>\n",
       "      <td>None</td>\n",
       "      <td>2</td>\n",
       "      <td>None</td>\n",
       "      <td>8.8</td>\n",
       "      <td>google</td>\n",
       "    </tr>\n",
       "    <tr>\n",
       "      <th>8</th>\n",
       "      <td>Macao Trading Co</td>\n",
       "      <td>311 Church Street, New York</td>\n",
       "      <td>None</td>\n",
       "      <td>3</td>\n",
       "      <td>None</td>\n",
       "      <td>9.0</td>\n",
       "      <td>google</td>\n",
       "    </tr>\n",
       "    <tr>\n",
       "      <th>9</th>\n",
       "      <td>La Esquina - SoHo</td>\n",
       "      <td>114 Kenmare Street, New York</td>\n",
       "      <td>None</td>\n",
       "      <td>2</td>\n",
       "      <td>None</td>\n",
       "      <td>8.4</td>\n",
       "      <td>google</td>\n",
       "    </tr>\n",
       "    <tr>\n",
       "      <th>10</th>\n",
       "      <td>Tacombi</td>\n",
       "      <td>267 Elizabeth Street, New York</td>\n",
       "      <td>None</td>\n",
       "      <td>2</td>\n",
       "      <td>None</td>\n",
       "      <td>8.8</td>\n",
       "      <td>google</td>\n",
       "    </tr>\n",
       "    <tr>\n",
       "      <th>11</th>\n",
       "      <td>Shuka</td>\n",
       "      <td>38 MacDougal Street, New York</td>\n",
       "      <td>None</td>\n",
       "      <td>2</td>\n",
       "      <td>None</td>\n",
       "      <td>9.0</td>\n",
       "      <td>google</td>\n",
       "    </tr>\n",
       "    <tr>\n",
       "      <th>12</th>\n",
       "      <td>Lure Fishbar</td>\n",
       "      <td>142 Mercer Street, New York</td>\n",
       "      <td>None</td>\n",
       "      <td>3</td>\n",
       "      <td>None</td>\n",
       "      <td>8.8</td>\n",
       "      <td>google</td>\n",
       "    </tr>\n",
       "    <tr>\n",
       "      <th>13</th>\n",
       "      <td>The Mercer Kitchen</td>\n",
       "      <td>99 Prince Street, New York</td>\n",
       "      <td>None</td>\n",
       "      <td>3</td>\n",
       "      <td>None</td>\n",
       "      <td>8.2</td>\n",
       "      <td>google</td>\n",
       "    </tr>\n",
       "    <tr>\n",
       "      <th>14</th>\n",
       "      <td>Bubby's</td>\n",
       "      <td>120 Hudson Street, New York</td>\n",
       "      <td>None</td>\n",
       "      <td>2</td>\n",
       "      <td>None</td>\n",
       "      <td>8.8</td>\n",
       "      <td>google</td>\n",
       "    </tr>\n",
       "    <tr>\n",
       "      <th>15</th>\n",
       "      <td>Katra Lounge &amp; Event Space</td>\n",
       "      <td>217 Bowery, New York</td>\n",
       "      <td>None</td>\n",
       "      <td>2</td>\n",
       "      <td>None</td>\n",
       "      <td>7.8</td>\n",
       "      <td>google</td>\n",
       "    </tr>\n",
       "    <tr>\n",
       "      <th>16</th>\n",
       "      <td>Palma</td>\n",
       "      <td>28 Cornelia Street, New York</td>\n",
       "      <td>None</td>\n",
       "      <td>3</td>\n",
       "      <td>None</td>\n",
       "      <td>9.2</td>\n",
       "      <td>google</td>\n",
       "    </tr>\n",
       "    <tr>\n",
       "      <th>17</th>\n",
       "      <td>Le Souk</td>\n",
       "      <td>510 LaGuardia Place, New York</td>\n",
       "      <td>None</td>\n",
       "      <td>3</td>\n",
       "      <td>None</td>\n",
       "      <td>7.6</td>\n",
       "      <td>google</td>\n",
       "    </tr>\n",
       "    <tr>\n",
       "      <th>18</th>\n",
       "      <td>Pravda New York</td>\n",
       "      <td>281 Lafayette Street, New York</td>\n",
       "      <td>None</td>\n",
       "      <td>2</td>\n",
       "      <td>None</td>\n",
       "      <td>7.8</td>\n",
       "      <td>google</td>\n",
       "    </tr>\n",
       "    <tr>\n",
       "      <th>19</th>\n",
       "      <td>Rubirosa Ristorante</td>\n",
       "      <td>235 Mulberry Street, New York</td>\n",
       "      <td>None</td>\n",
       "      <td>2</td>\n",
       "      <td>None</td>\n",
       "      <td>9.2</td>\n",
       "      <td>google</td>\n",
       "    </tr>\n",
       "  </tbody>\n",
       "</table>\n",
       "</div>"
      ],
      "text/plain": [
       "                          name                         address   url  \\\n",
       "0                    NOMO SOHO       9 Crosby Street, New York  None   \n",
       "1    Artichoke Basille's Pizza  111 MacDougal Street, New York  None   \n",
       "2                   Gilligan's     310 West Broadway, New York  None   \n",
       "3                   Lombardi's      32 Spring Street, New York  None   \n",
       "4                  City Winery     155 Varick Street, New York  None   \n",
       "5            Cipriani Downtown     376 West Broadway, New York  None   \n",
       "6                      Carbone   181 Thompson Street, New York  None   \n",
       "7                     Boqueria     171 Spring Street, New York  None   \n",
       "8             Macao Trading Co     311 Church Street, New York  None   \n",
       "9            La Esquina - SoHo    114 Kenmare Street, New York  None   \n",
       "10                     Tacombi  267 Elizabeth Street, New York  None   \n",
       "11                       Shuka   38 MacDougal Street, New York  None   \n",
       "12                Lure Fishbar     142 Mercer Street, New York  None   \n",
       "13          The Mercer Kitchen      99 Prince Street, New York  None   \n",
       "14                     Bubby's     120 Hudson Street, New York  None   \n",
       "15  Katra Lounge & Event Space            217 Bowery, New York  None   \n",
       "16                       Palma    28 Cornelia Street, New York  None   \n",
       "17                     Le Souk   510 LaGuardia Place, New York  None   \n",
       "18             Pravda New York  281 Lafayette Street, New York  None   \n",
       "19         Rubirosa Ristorante   235 Mulberry Street, New York  None   \n",
       "\n",
       "    price_category likes  rating     api  \n",
       "0                3  None     8.4  google  \n",
       "1                2  None     8.8  google  \n",
       "2                3  None     8.2  google  \n",
       "3                2  None     8.2  google  \n",
       "4                3  None     8.6  google  \n",
       "5                4  None     8.4  google  \n",
       "6                3  None     8.8  google  \n",
       "7                2  None     8.8  google  \n",
       "8                3  None     9.0  google  \n",
       "9                2  None     8.4  google  \n",
       "10               2  None     8.8  google  \n",
       "11               2  None     9.0  google  \n",
       "12               3  None     8.8  google  \n",
       "13               3  None     8.2  google  \n",
       "14               2  None     8.8  google  \n",
       "15               2  None     7.8  google  \n",
       "16               3  None     9.2  google  \n",
       "17               3  None     7.6  google  \n",
       "18               2  None     7.8  google  \n",
       "19               2  None     9.2  google  "
      ]
     },
     "execution_count": 24,
     "metadata": {},
     "output_type": "execute_result"
    }
   ],
   "source": [
    "df_all_top"
   ]
  },
  {
   "cell_type": "markdown",
   "metadata": {},
   "source": [
    "## Google Directions"
   ]
  },
  {
   "cell_type": "code",
   "execution_count": 42,
   "metadata": {},
   "outputs": [],
   "source": [
    "mode = \"driving\""
   ]
  },
  {
   "cell_type": "code",
   "execution_count": 43,
   "metadata": {},
   "outputs": [],
   "source": [
    "df_all_top[\"key\"] = 0"
   ]
  },
  {
   "cell_type": "code",
   "execution_count": 44,
   "metadata": {},
   "outputs": [],
   "source": [
    "direction_matrix = df_all_top[[\"address\",\"key\"]].merge(df_all_top[[\"address\",\"key\"]], on=\"key\")[[\"address_x\",\"address_y\"]]"
   ]
  },
  {
   "cell_type": "code",
   "execution_count": 60,
   "metadata": {},
   "outputs": [],
   "source": [
    "duration = []\n",
    "for row in direction_matrix.iterrows():\n",
    "    row = row[1]\n",
    "    origin = row[\"address_x\"].replace(\",\",\"\").replace(\" \",\"+\")\n",
    "    destination = row[\"address_y\"].replace(\",\",\"\").replace(\" \",\"+\")\n",
    "    resp = requests.get(f'https://maps.googleapis.com/maps/api/directions/json?origin={origin}&destination={destination}&key={key}&mode={mode}')\n",
    "    data = resp.json()\n",
    "    duration.append(data[\"routes\"][0][\"legs\"][0][\"duration\"][\"value\"])\n",
    "    "
   ]
  },
  {
   "cell_type": "code",
   "execution_count": 63,
   "metadata": {},
   "outputs": [],
   "source": [
    "direction_matrix[\"duration\"] = duration"
   ]
  },
  {
   "cell_type": "code",
   "execution_count": 77,
   "metadata": {},
   "outputs": [],
   "source": [
    "direction_matrix_final = direction_matrix.set_index([\"address_y\",\"address_x\"]).unstack()"
   ]
  },
  {
   "cell_type": "code",
   "execution_count": null,
   "metadata": {},
   "outputs": [],
   "source": []
  },
  {
   "cell_type": "code",
   "execution_count": null,
   "metadata": {},
   "outputs": [],
   "source": []
  },
  {
   "cell_type": "markdown",
   "metadata": {},
   "source": [
    "## Travelling Salesman Problem"
   ]
  },
  {
   "cell_type": "markdown",
   "metadata": {},
   "source": [
    "This section simply follow steps from the [ortools tutorial](https://developers.google.com/optimization/routing/tsp)."
   ]
  },
  {
   "cell_type": "code",
   "execution_count": 82,
   "metadata": {},
   "outputs": [],
   "source": [
    "from ortools.constraint_solver import pywrapcp"
   ]
  },
  {
   "cell_type": "code",
   "execution_count": 79,
   "metadata": {},
   "outputs": [],
   "source": [
    "def create_data_model():\n",
    "    \"\"\"Stores the data for the problem.\"\"\"\n",
    "    data = {}\n",
    "    data['distance_matrix'] = direction_matrix_final.values\n",
    "    data['num_vehicles'] = 1\n",
    "    data['depot'] = 0\n",
    "    return data"
   ]
  },
  {
   "cell_type": "code",
   "execution_count": 80,
   "metadata": {},
   "outputs": [],
   "source": [
    "df = create_data_model()"
   ]
  },
  {
   "cell_type": "code",
   "execution_count": 83,
   "metadata": {},
   "outputs": [],
   "source": [
    "manager = pywrapcp.RoutingIndexManager(len(df['distance_matrix']),\n",
    "                                       df['num_vehicles'], df['depot'])\n",
    "routing = pywrapcp.RoutingModel(manager)"
   ]
  },
  {
   "cell_type": "code",
   "execution_count": 84,
   "metadata": {},
   "outputs": [],
   "source": [
    "def distance_callback(from_index, to_index):\n",
    "    \"\"\"Returns the distance between the two nodes.\"\"\"\n",
    "    # Convert from routing variable Index to distance matrix NodeIndex.\n",
    "    from_node = manager.IndexToNode(from_index)\n",
    "    to_node = manager.IndexToNode(to_index)\n",
    "    return df['distance_matrix'][from_node][to_node]\n",
    "\n",
    "transit_callback_index = routing.RegisterTransitCallback(distance_callback)"
   ]
  },
  {
   "cell_type": "code",
   "execution_count": 85,
   "metadata": {},
   "outputs": [],
   "source": [
    "routing.SetArcCostEvaluatorOfAllVehicles(transit_callback_index)"
   ]
  },
  {
   "cell_type": "code",
   "execution_count": 89,
   "metadata": {},
   "outputs": [],
   "source": [
    "from ortools.constraint_solver import routing_enums_pb2"
   ]
  },
  {
   "cell_type": "code",
   "execution_count": 90,
   "metadata": {},
   "outputs": [],
   "source": [
    "search_parameters = pywrapcp.DefaultRoutingSearchParameters()\n",
    "search_parameters.first_solution_strategy = (\n",
    "    routing_enums_pb2.FirstSolutionStrategy.PATH_CHEAPEST_ARC)"
   ]
  },
  {
   "cell_type": "code",
   "execution_count": null,
   "metadata": {},
   "outputs": [],
   "source": []
  },
  {
   "cell_type": "code",
   "execution_count": 91,
   "metadata": {},
   "outputs": [],
   "source": [
    "def print_solution(manager, routing, solution):\n",
    "    \"\"\"Prints solution on console.\"\"\"\n",
    "    print('Objective: {} miles'.format(solution.ObjectiveValue()))\n",
    "    index = routing.Start(0)\n",
    "    plan_output = 'Route for vehicle 0:\\n'\n",
    "    route_distance = 0\n",
    "    while not routing.IsEnd(index):\n",
    "        plan_output += ' {} ->'.format(manager.IndexToNode(index))\n",
    "        previous_index = index\n",
    "        index = solution.Value(routing.NextVar(index))\n",
    "        route_distance += routing.GetArcCostForVehicle(previous_index, index, 0)\n",
    "    plan_output += ' {}\\n'.format(manager.IndexToNode(index))\n",
    "    print(plan_output)\n",
    "    plan_output += 'Route distance: {}miles\\n'.format(route_distance)"
   ]
  },
  {
   "cell_type": "code",
   "execution_count": 93,
   "metadata": {},
   "outputs": [
    {
     "name": "stdout",
     "output_type": "stream",
     "text": [
      "Objective: 3233 miles\n",
      "Route for vehicle 0:\n",
      " 0 -> 17 -> 6 -> 16 -> 9 -> 7 -> 14 -> 5 -> 19 -> 3 -> 11 -> 8 -> 1 -> 18 -> 13 -> 2 -> 15 -> 12 -> 4 -> 10 -> 0\n",
      "\n"
     ]
    }
   ],
   "source": [
    "solution = routing.SolveWithParameters(search_parameters)\n",
    "if solution:\n",
    "    print_solution(manager, routing, solution)"
   ]
  },
  {
   "cell_type": "code",
   "execution_count": null,
   "metadata": {},
   "outputs": [],
   "source": []
  }
 ],
 "metadata": {
  "kernelspec": {
   "display_name": "Python 3",
   "language": "python",
   "name": "python3"
  },
  "language_info": {
   "codemirror_mode": {
    "name": "ipython",
    "version": 3
   },
   "file_extension": ".py",
   "mimetype": "text/x-python",
   "name": "python",
   "nbconvert_exporter": "python",
   "pygments_lexer": "ipython3",
   "version": "3.7.6"
  },
  "toc": {
   "base_numbering": 1,
   "nav_menu": {},
   "number_sections": true,
   "sideBar": true,
   "skip_h1_title": false,
   "title_cell": "Table of Contents",
   "title_sidebar": "Contents",
   "toc_cell": false,
   "toc_position": {},
   "toc_section_display": true,
   "toc_window_display": false
  },
  "varInspector": {
   "cols": {
    "lenName": 16,
    "lenType": 16,
    "lenVar": 40
   },
   "kernels_config": {
    "python": {
     "delete_cmd_postfix": "",
     "delete_cmd_prefix": "del ",
     "library": "var_list.py",
     "varRefreshCmd": "print(var_dic_list())"
    },
    "r": {
     "delete_cmd_postfix": ") ",
     "delete_cmd_prefix": "rm(",
     "library": "var_list.r",
     "varRefreshCmd": "cat(var_dic_list()) "
    }
   },
   "types_to_exclude": [
    "module",
    "function",
    "builtin_function_or_method",
    "instance",
    "_Feature"
   ],
   "window_display": false
  }
 },
 "nbformat": 4,
 "nbformat_minor": 4
}
